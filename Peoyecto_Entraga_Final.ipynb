{
  "nbformat": 4,
  "nbformat_minor": 0,
  "metadata": {
    "colab": {
      "provenance": [],
      "authorship_tag": "ABX9TyPX3AwkobghiuztxrN7N+G7",
      "include_colab_link": true
    },
    "kernelspec": {
      "name": "python3",
      "display_name": "Python 3"
    },
    "language_info": {
      "name": "python"
    }
  },
  "cells": [
    {
      "cell_type": "markdown",
      "metadata": {
        "id": "view-in-github",
        "colab_type": "text"
      },
      "source": [
        "<a href=\"https://colab.research.google.com/github/soyudea/proyecro_IA_2023_UltimaVesrsion/blob/main/Peoyecto_Entraga_Final.ipynb\" target=\"_parent\"><img src=\"https://colab.research.google.com/assets/colab-badge.svg\" alt=\"Open In Colab\"/></a>"
      ]
    },
    {
      "cell_type": "markdown",
      "source": [
        "\n",
        "**Librerías usadas en el Proyectos**"
      ],
      "metadata": {
        "id": "og0BhZv2znmY"
      }
    },
    {
      "cell_type": "code",
      "source": [
        "import pandas as pd\n",
        "import numpy as np\n",
        "import math\n",
        "from seaborn import distplot\n",
        "import seaborn as sns\n",
        "import matplotlib.pyplot as plt\n",
        "from sklearn.preprocessing import StandardScaler\n",
        "from sklearn.preprocessing import MinMaxScaler\n",
        "from sklearn.model_selection import KFold\n",
        "from sklearn.metrics import f1_score\n",
        "from sklearn.metrics import confusion_matrix\n",
        "from sklearn.metrics import classification_report\n",
        "from sklearn.pipeline import make_pipeline\n",
        "\n",
        "from sklearn.tree import DecisionTreeClassifier\n",
        "from sklearn.model_selection import train_test_split\n",
        "from sklearn.metrics import median_absolute_error, r2_score, mean_squared_error\n",
        "from matplotlib.patches import split_path_inout\n",
        "from imblearn.over_sampling import RandomOverSampler\n",
        "from sklearn.metrics import average_precision_score\n",
        "from sklearn.metrics import roc_auc_score\n",
        "from sklearn.metrics import roc_curve, auc\n",
        "from matplotlib import pyplot\n",
        "\n",
        "from sklearn.svm import SVC\n",
        "from sklearn import svm, datasets\n",
        "from sklearn.model_selection import GridSearchCV\n",
        "from sklearn.ensemble import RandomForestClassifier\n",
        "\n",
        "from collections import Counter\n",
        "from sklearn.datasets import make_classification\n",
        "from imblearn.over_sampling import RandomOverSampler\n",
        "\n",
        "from sklearn.decomposition import PCA"
      ],
      "metadata": {
        "id": "jqPFa8lQzBgx"
      },
      "execution_count": 1,
      "outputs": []
    },
    {
      "cell_type": "markdown",
      "source": [
        "**Carga del dataset **\n",
        "https://www.kaggle.com/competitions/playground-series-s3e2/data?select=train.csv"
      ],
      "metadata": {
        "id": "zfQonFKR0HkP"
      }
    },
    {
      "cell_type": "code",
      "source": [
        "#Se carga dataset obtenido de Kaggle de competencia\n",
        "#==============================================================\n",
        "datos = pd.read_csv('train.csv', sep=\",\")\n",
        "datos_test = pd.read_csv('test.csv', sep=\",\")\n",
        "df =datos.copy()\n",
        "df_test=datos_test.copy()"
      ],
      "metadata": {
        "id": "aUSs9Dy7zB06"
      },
      "execution_count": 5,
      "outputs": []
    },
    {
      "cell_type": "markdown",
      "source": [
        "**Se agregan valores nulos al 5 % de las muestras en los campos age, avg_glucose_level**"
      ],
      "metadata": {
        "id": "8HksxgCb1lv-"
      }
    },
    {
      "cell_type": "code",
      "source": [
        "#Se adiciona valores nulos al atributo age y avg_glucose_level\n",
        "#=============================================================\n",
        "#df =datos.copy()\n",
        "lista=[]\n",
        "porc_nulos =int(np.shape(df)[0]*5/100)   #Calculo de porcentaje de datos nulos\n",
        "rango_df = np.shape(df)[0]\n",
        "\n",
        "for i in range(porc_nulos):\n",
        "    num_aleatprio = np.random.randint(rango_df) \n",
        "    lista.append(num_aleatprio)\n",
        "\n",
        "\n",
        "for i in lista:\n",
        "    df.at[i, \"age\"] = np.nan\n",
        "\n",
        "lista=[]\n",
        "rango_df = np.shape(df)[0]\n",
        "\n",
        "for i in range(porc_nulos):\n",
        "    num_aleatprio = np.random.randint(rango_df) \n",
        "    lista.append(num_aleatprio)\n",
        "\n",
        "\n",
        "for i in lista:\n",
        "    df.at[i, \"avg_glucose_level\"] = np.nan"
      ],
      "metadata": {
        "id": "jXbdYSQI2NG1"
      },
      "execution_count": 7,
      "outputs": []
    },
    {
      "cell_type": "markdown",
      "source": [
        "**Estado del dataset despues de agregar valores nulos**"
      ],
      "metadata": {
        "id": "eVKExMcH2cF8"
      }
    },
    {
      "cell_type": "code",
      "source": [
        "df.isna().sum().sort_values()"
      ],
      "metadata": {
        "colab": {
          "base_uri": "https://localhost:8080/"
        },
        "id": "OlUvWR6z2Y7C",
        "outputId": "d95407e3-5fe2-4794-cae6-b5687b6ab69c"
      },
      "execution_count": 8,
      "outputs": [
        {
          "output_type": "execute_result",
          "data": {
            "text/plain": [
              "id                     0\n",
              "gender                 0\n",
              "hypertension           0\n",
              "heart_disease          0\n",
              "ever_married           0\n",
              "work_type              0\n",
              "Residence_type         0\n",
              "bmi                    0\n",
              "smoking_status         0\n",
              "stroke                 0\n",
              "avg_glucose_level    745\n",
              "age                  746\n",
              "dtype: int64"
            ]
          },
          "metadata": {},
          "execution_count": 8
        }
      ]
    },
    {
      "cell_type": "markdown",
      "source": [
        "**Se agregan valores promedios en aquellas muestras con valores nulos**"
      ],
      "metadata": {
        "id": "Z8nBkjIK2t58"
      }
    },
    {
      "cell_type": "code",
      "source": [
        "#Se agregan valores promedios al atributo age cuando son nulos\n",
        "#==================================================================\n",
        "\n",
        "mean_age = df['age'].mean().astype(int) #Calculo media de las edades\n",
        "\n",
        "for i in range(len(df)):\n",
        "    if math. isnan(df.at[i, \"age\"]):\n",
        "       df.at[i, \"age\"] = mean_age"
      ],
      "metadata": {
        "id": "rY7XM-LG22qD"
      },
      "execution_count": 9,
      "outputs": []
    },
    {
      "cell_type": "code",
      "source": [
        "#Se agrega valores promedios al atributo avg_glucose_level cuando son nulos\n",
        "#===============================================================================================\n",
        "mean_avg_glucose_level = df['avg_glucose_level'].mean().astype(int) #Calculo media de las edades\n",
        "\n",
        "for i in range(len(df)):\n",
        "    if math. isnan(df.at[i, \"avg_glucose_level\"]):\n",
        "       df.at[i, \"avg_glucose_level\"] = mean_avg_glucose_level"
      ],
      "metadata": {
        "id": "OFiMq3L029cc"
      },
      "execution_count": 10,
      "outputs": []
    },
    {
      "cell_type": "markdown",
      "source": [
        "**Estado final del dataset despues de reemplazar valores nulos con valores promedios**"
      ],
      "metadata": {
        "id": "o3B9-Xso3LSW"
      }
    },
    {
      "cell_type": "code",
      "source": [
        "datos['age'] = datos['age'].astype('int64') \n",
        "datos.info()"
      ],
      "metadata": {
        "colab": {
          "base_uri": "https://localhost:8080/"
        },
        "id": "6KGT2H7b3c_C",
        "outputId": "f5230833-7885-48ab-d1bb-bb783e3eb148"
      },
      "execution_count": 11,
      "outputs": [
        {
          "output_type": "stream",
          "name": "stdout",
          "text": [
            "<class 'pandas.core.frame.DataFrame'>\n",
            "RangeIndex: 15304 entries, 0 to 15303\n",
            "Data columns (total 12 columns):\n",
            " #   Column             Non-Null Count  Dtype  \n",
            "---  ------             --------------  -----  \n",
            " 0   id                 15304 non-null  int64  \n",
            " 1   gender             15304 non-null  object \n",
            " 2   age                15304 non-null  int64  \n",
            " 3   hypertension       15304 non-null  int64  \n",
            " 4   heart_disease      15304 non-null  int64  \n",
            " 5   ever_married       15304 non-null  object \n",
            " 6   work_type          15304 non-null  object \n",
            " 7   Residence_type     15304 non-null  object \n",
            " 8   avg_glucose_level  15304 non-null  float64\n",
            " 9   bmi                15304 non-null  float64\n",
            " 10  smoking_status     15304 non-null  object \n",
            " 11  stroke             15304 non-null  int64  \n",
            "dtypes: float64(2), int64(5), object(5)\n",
            "memory usage: 1.4+ MB\n"
          ]
        }
      ]
    },
    {
      "cell_type": "markdown",
      "source": [
        "**Estado del dataSet**"
      ],
      "metadata": {
        "id": "6p84Q1vj34i9"
      }
    },
    {
      "cell_type": "code",
      "source": [
        "df.info()"
      ],
      "metadata": {
        "colab": {
          "base_uri": "https://localhost:8080/"
        },
        "id": "sjPRqj8B314O",
        "outputId": "a933dde4-b95a-4f6c-ec48-10fea4246998"
      },
      "execution_count": 12,
      "outputs": [
        {
          "output_type": "stream",
          "name": "stdout",
          "text": [
            "<class 'pandas.core.frame.DataFrame'>\n",
            "RangeIndex: 15304 entries, 0 to 15303\n",
            "Data columns (total 12 columns):\n",
            " #   Column             Non-Null Count  Dtype  \n",
            "---  ------             --------------  -----  \n",
            " 0   id                 15304 non-null  int64  \n",
            " 1   gender             15304 non-null  object \n",
            " 2   age                15304 non-null  float64\n",
            " 3   hypertension       15304 non-null  int64  \n",
            " 4   heart_disease      15304 non-null  int64  \n",
            " 5   ever_married       15304 non-null  object \n",
            " 6   work_type          15304 non-null  object \n",
            " 7   Residence_type     15304 non-null  object \n",
            " 8   avg_glucose_level  15304 non-null  float64\n",
            " 9   bmi                15304 non-null  float64\n",
            " 10  smoking_status     15304 non-null  object \n",
            " 11  stroke             15304 non-null  int64  \n",
            "dtypes: float64(3), int64(4), object(5)\n",
            "memory usage: 1.4+ MB\n"
          ]
        }
      ]
    },
    {
      "cell_type": "code",
      "source": [
        "df.isnull().sum()"
      ],
      "metadata": {
        "colab": {
          "base_uri": "https://localhost:8080/"
        },
        "id": "3QLodzHl4Dk1",
        "outputId": "3761929a-6b17-4fdf-a277-682913868b38"
      },
      "execution_count": 13,
      "outputs": [
        {
          "output_type": "execute_result",
          "data": {
            "text/plain": [
              "id                   0\n",
              "gender               0\n",
              "age                  0\n",
              "hypertension         0\n",
              "heart_disease        0\n",
              "ever_married         0\n",
              "work_type            0\n",
              "Residence_type       0\n",
              "avg_glucose_level    0\n",
              "bmi                  0\n",
              "smoking_status       0\n",
              "stroke               0\n",
              "dtype: int64"
            ]
          },
          "metadata": {},
          "execution_count": 13
        }
      ]
    },
    {
      "cell_type": "markdown",
      "source": [
        "**Discretización de las variables 'age', 'avge_glucose_level', 'bmi'**"
      ],
      "metadata": {
        "id": "lvA39Iz76T7t"
      }
    },
    {
      "cell_type": "code",
      "source": [
        "#Se transforma campo numerico age a un atributo con valores categoricos, se discretisa\n",
        "#========================================================================================================================================================\n",
        "\n",
        "df = datos.copy()\n",
        "\n",
        "edades = pd.cut(df['age'], bins = [0,10,20,40,np.inf], labels =['niño','joven','adulto','mayor'], include_lowest=True, retbins = True)\n",
        "df['new_age'] = list(edades[0]) \n",
        "\n",
        "glucosa = pd.cut(df['avg_glucose_level'], bins = [0,100,125,np.inf], labels = ['normal', 'prediabetico','diabetico'], include_lowest=True, retbins=True)\n",
        "df[\"avg_glucose\"] = list(glucosa[0])\n",
        "\n",
        "im = pd.cut(df['bmi'], bins = [18.5,24.9,25,29.9,np.inf], labels = ['low_weight', 'Healthy_weight','overweight','obesity'], include_lowest=True, retbins=True)\n",
        "df['bmi_range'] = list(im[0])\n",
        "df.shape"
      ],
      "metadata": {
        "colab": {
          "base_uri": "https://localhost:8080/"
        },
        "id": "Buk7M13P6Ne1",
        "outputId": "71a0b035-efe3-4dda-a9e6-0280ae8a8259"
      },
      "execution_count": 19,
      "outputs": [
        {
          "output_type": "execute_result",
          "data": {
            "text/plain": [
              "(15304, 15)"
            ]
          },
          "metadata": {},
          "execution_count": 19
        }
      ]
    },
    {
      "cell_type": "markdown",
      "source": [
        "**Transformación del dataset, de variables categoricas a númericas**"
      ],
      "metadata": {
        "id": "ce7c3SUa5l3N"
      }
    },
    {
      "cell_type": "code",
      "source": [
        "#Se obtiene un dataset con todos sus atributos numéricos\n",
        "#========================================================================================================================================================================================================================================\n",
        "#Quitar la variable work_type\n",
        "\n",
        "vnumericas = df.drop([\"id\",\"avg_glucose_level\",\"age\",\"bmi\",\"new_age\",\"avg_glucose\",\"bmi_range\",\"gender\",\"ever_married\",\"work_type\",\"Residence_type\",\"smoking_status\", \"bmi_range\"],axis=1)#SE crea variable númerica sin las categoricas \n",
        "vcategoricas=df.filter([\"new_age\",\"avg_glucose\",\"bmi_range\",\"gender\",\"ever_married\",\"work_type\",\"Residence_type\",\"smoking_status\", \"bmi_range\"]) \n",
        "\n",
        "#vnumericas = df.drop([\"id\",\"avg_glucose_level\",\"age\",\"bmi\",\"new_age\",\"avg_glucose\",\"bmi_range\",\"gender\",\"ever_married\",\"work_type\",\"Residence_type\",\"smoking_status\", \"bmi_range\"],axis=1)#SE crea variable númerica sin las categoricas \n",
        "#vcategoricas=df.filter([\"new_age\",\"avg_glucose\",\"bmi_range\",\"gender\",\"ever_married\",\"smoking_status\"]) \n",
        "\n",
        "cat_numerica=pd.get_dummies(vcategoricas,drop_first=False) \n",
        "df=pd.concat([cat_numerica,vnumericas],axis=1)\n",
        "#datos = df\n",
        "df.shape"
      ],
      "metadata": {
        "colab": {
          "base_uri": "https://localhost:8080/"
        },
        "id": "3iiqae9P5kRV",
        "outputId": "47add831-9a31-4dbc-8afc-f540dae44a34"
      },
      "execution_count": 20,
      "outputs": [
        {
          "output_type": "execute_result",
          "data": {
            "text/plain": [
              "(15304, 34)"
            ]
          },
          "metadata": {},
          "execution_count": 20
        }
      ]
    },
    {
      "cell_type": "markdown",
      "source": [
        "**Organización del dataset final**"
      ],
      "metadata": {
        "id": "u6vbHrAL6kiw"
      }
    },
    {
      "cell_type": "code",
      "source": [
        "X = df[:len(df)]\n",
        "y = df['stroke']\n",
        "X = X.drop(columns=['stroke'])\n",
        "X.columns\n",
        "X.shape"
      ],
      "metadata": {
        "colab": {
          "base_uri": "https://localhost:8080/"
        },
        "id": "CW8dNTxn6i1o",
        "outputId": "c6b0540a-c464-489f-d5c8-e09e38047281"
      },
      "execution_count": 21,
      "outputs": [
        {
          "output_type": "execute_result",
          "data": {
            "text/plain": [
              "(15304, 33)"
            ]
          },
          "metadata": {},
          "execution_count": 21
        }
      ]
    },
    {
      "cell_type": "markdown",
      "source": [
        "**Generador de muestras sintéticas**"
      ],
      "metadata": {
        "id": "uMTBscUm5N2b"
      }
    },
    {
      "cell_type": "code",
      "source": [
        "pca=PCA(n_components=30) \n",
        "pca.fit(X) #\n",
        "X_pca=pca.transform(X)"
      ],
      "metadata": {
        "id": "CgzS65QX60QD"
      },
      "execution_count": 23,
      "outputs": []
    },
    {
      "cell_type": "code",
      "source": [
        "#sampling_strategyfloat, str, dict or callable, default=’auto’\n",
        "\n",
        "ros = RandomOverSampler(random_state=42, sampling_strategy=1.0)                          \n",
        "Xres, yres = ros.fit_resample(X_pca, y)\n",
        "Xtrain, Xtst, ytrain, ytst = train_test_split(Xres,yres, test_size=0.1) #Se toma el 90 % de los datos para Entrenar\n",
        "print (Xtrain.shape, ytrain.shape, Xtst.shape, ytst.shape)\n",
        "X=Xtrain\n",
        "y=ytrain"
      ],
      "metadata": {
        "colab": {
          "base_uri": "https://localhost:8080/"
        },
        "id": "mcgv6Q6I5V0t",
        "outputId": "59802fac-5d60-4a2a-a2f9-138a4d8fa36f"
      },
      "execution_count": 24,
      "outputs": [
        {
          "output_type": "stream",
          "name": "stdout",
          "text": [
            "(26409, 30) (26409,) (2935, 30) (2935,)\n"
          ]
        }
      ]
    },
    {
      "cell_type": "markdown",
      "source": [
        "**Calculo pesos de la clase Parametro que se usa para minimizar el efecto del desbalance del dataset**"
      ],
      "metadata": {
        "id": "Hcl7l4Lh7B5T"
      }
    },
    {
      "cell_type": "code",
      "source": [
        "def dar_peso_clase():\n",
        "  Xtrain, Xtest, ytrain, ytest = train_test_split(X, y, test_size = 0.2, train_size = 0.8, random_state = 17)\n",
        "  Number_Muestras_por_Clase = ytrain.value_counts()\n",
        "  Number_Muestras_por_Clase = Number_Muestras_por_Clase.sort_index(axis = 0, ascending = True)\n",
        "  Numero_de_Clases = len(Number_Muestras_por_Clase.index)\n",
        "  Peso_por_Clase = len(ytrain)/(Numero_de_Clases*Number_Muestras_por_Clase)\n",
        "  return Peso_por_Clase"
      ],
      "metadata": {
        "id": "pOiWnmMT7YZp"
      },
      "execution_count": 25,
      "outputs": []
    },
    {
      "cell_type": "markdown",
      "source": [
        "**Modelo DecisionTreeClassifie**r https://scikit-learn.org/stable/modules/generated/sklearn.tree.DecisionTreeClassifier.html"
      ],
      "metadata": {
        "id": "usqyYkeZ7frL"
      }
    },
    {
      "cell_type": "code",
      "source": [
        "#Entrenamiento del modelo  DecisionTreeClassifier con el 90% de las muestras\n",
        "#=================================================================================================================\n",
        "from sklearn.linear_model import LassoCV\n",
        "from sklearn.metrics import roc_auc_score\n",
        "kf = KFold(n_splits=20, random_state = True,shuffle=True)\n",
        "\n",
        "preds = []\n",
        "scores = []\n",
        "\n",
        "model_params = {\n",
        "    'precompute': 'auto',\n",
        "    'fit_intercept': True,\n",
        "    'max_iter': 100000,\n",
        "    'verbose': False,\n",
        "    'eps': 1e-04, \n",
        "    'n_alphas': 1000,\n",
        "    'n_jobs': -1,\n",
        "}\n",
        "weight= dar_peso_clase()\n",
        "\n",
        "classifier = DecisionTreeClassifier(criterion='gini',\n",
        "                                    ccp_alpha=0.000001,\n",
        "                                    min_samples_split=10,\n",
        "                                    class_weight= {0: weight[0], 1: weight[1]},\n",
        "                                    random_state=42)  #Falta parametrizar\n",
        "X_test =0\n",
        "y_test =0\n",
        "for train_index, test_index in kf.split(X):\n",
        "\n",
        "    #X_train, X_test = X_pca.iloc[train_index], X.iloc[test_index] #Linea de código cuando no usamos PCA\n",
        "    X_train, X_test = X[train_index], X[test_index]  #linea de código para pca\n",
        "    y_train, y_test = y.iloc[train_index], y.iloc[test_index]\n",
        "\n",
        "    #modelo = LassoCV(**model_params)\n",
        "    modelo = classifier.fit(X_train, y_train)\n",
        "    y_pred = modelo.predict(X_test)\n",
        "\n",
        "    print()\n",
        "    print(confusion_matrix(y_test, y_pred))\n",
        "    print(classification_report(y_test, y_pred, digits =4, labels=[0,1]))\n",
        "    preds.append(modelo.predict(X_test))\n",
        "    s = roc_auc_score(y_test, modelo.predict(X_test))\n",
        "    print(f'Best val auc: {s: .4f}')\n",
        "    scores.append(s)\n",
        "    print()"
      ],
      "metadata": {
        "colab": {
          "base_uri": "https://localhost:8080/"
        },
        "id": "JJz0jvd37r_i",
        "outputId": "a1dc9083-95ed-4137-e03a-776eb7c57ba0"
      },
      "execution_count": 26,
      "outputs": [
        {
          "output_type": "stream",
          "name": "stdout",
          "text": [
            "\n",
            "[[494 178]\n",
            " [ 69 580]]\n",
            "              precision    recall  f1-score   support\n",
            "\n",
            "           0     0.8774    0.7351    0.8000       672\n",
            "           1     0.7652    0.8937    0.8244       649\n",
            "\n",
            "    accuracy                         0.8130      1321\n",
            "   macro avg     0.8213    0.8144    0.8122      1321\n",
            "weighted avg     0.8223    0.8130    0.8120      1321\n",
            "\n",
            "Best val auc:  0.8144\n",
            "\n",
            "\n",
            "[[455 150]\n",
            " [ 90 626]]\n",
            "              precision    recall  f1-score   support\n",
            "\n",
            "           0     0.8349    0.7521    0.7913       605\n",
            "           1     0.8067    0.8743    0.8391       716\n",
            "\n",
            "    accuracy                         0.8183      1321\n",
            "   macro avg     0.8208    0.8132    0.8152      1321\n",
            "weighted avg     0.8196    0.8183    0.8172      1321\n",
            "\n",
            "Best val auc:  0.8132\n",
            "\n",
            "\n",
            "[[471 183]\n",
            " [ 77 590]]\n",
            "              precision    recall  f1-score   support\n",
            "\n",
            "           0     0.8595    0.7202    0.7837       654\n",
            "           1     0.7633    0.8846    0.8194       667\n",
            "\n",
            "    accuracy                         0.8032      1321\n",
            "   macro avg     0.8114    0.8024    0.8016      1321\n",
            "weighted avg     0.8109    0.8032    0.8017      1321\n",
            "\n",
            "Best val auc:  0.8024\n",
            "\n",
            "\n",
            "[[512 170]\n",
            " [ 93 546]]\n",
            "              precision    recall  f1-score   support\n",
            "\n",
            "           0     0.8463    0.7507    0.7956       682\n",
            "           1     0.7626    0.8545    0.8059       639\n",
            "\n",
            "    accuracy                         0.8009      1321\n",
            "   macro avg     0.8044    0.8026    0.8008      1321\n",
            "weighted avg     0.8058    0.8009    0.8006      1321\n",
            "\n",
            "Best val auc:  0.8026\n",
            "\n",
            "\n",
            "[[485 187]\n",
            " [ 69 580]]\n",
            "              precision    recall  f1-score   support\n",
            "\n",
            "           0     0.8755    0.7217    0.7912       672\n",
            "           1     0.7562    0.8937    0.8192       649\n",
            "\n",
            "    accuracy                         0.8062      1321\n",
            "   macro avg     0.8158    0.8077    0.8052      1321\n",
            "weighted avg     0.8169    0.8062    0.8050      1321\n",
            "\n",
            "Best val auc:  0.8077\n",
            "\n",
            "\n",
            "[[487 194]\n",
            " [ 67 573]]\n",
            "              precision    recall  f1-score   support\n",
            "\n",
            "           0     0.8791    0.7151    0.7887       681\n",
            "           1     0.7471    0.8953    0.8145       640\n",
            "\n",
            "    accuracy                         0.8024      1321\n",
            "   macro avg     0.8131    0.8052    0.8016      1321\n",
            "weighted avg     0.8151    0.8024    0.8012      1321\n",
            "\n",
            "Best val auc:  0.8052\n",
            "\n",
            "\n",
            "[[461 186]\n",
            " [ 73 601]]\n",
            "              precision    recall  f1-score   support\n",
            "\n",
            "           0     0.8633    0.7125    0.7807       647\n",
            "           1     0.7637    0.8917    0.8227       674\n",
            "\n",
            "    accuracy                         0.8039      1321\n",
            "   macro avg     0.8135    0.8021    0.8017      1321\n",
            "weighted avg     0.8125    0.8039    0.8021      1321\n",
            "\n",
            "Best val auc:  0.8021\n",
            "\n",
            "\n",
            "[[484 181]\n",
            " [ 84 572]]\n",
            "              precision    recall  f1-score   support\n",
            "\n",
            "           0     0.8521    0.7278    0.7851       665\n",
            "           1     0.7596    0.8720    0.8119       656\n",
            "\n",
            "    accuracy                         0.7994      1321\n",
            "   macro avg     0.8059    0.7999    0.7985      1321\n",
            "weighted avg     0.8062    0.7994    0.7984      1321\n",
            "\n",
            "Best val auc:  0.7999\n",
            "\n",
            "\n",
            "[[516 156]\n",
            " [ 71 578]]\n",
            "              precision    recall  f1-score   support\n",
            "\n",
            "           0     0.8790    0.7679    0.8197       672\n",
            "           1     0.7875    0.8906    0.8359       649\n",
            "\n",
            "    accuracy                         0.8282      1321\n",
            "   macro avg     0.8333    0.8292    0.8278      1321\n",
            "weighted avg     0.8341    0.8282    0.8276      1321\n",
            "\n",
            "Best val auc:  0.8292\n",
            "\n",
            "\n",
            "[[471 181]\n",
            " [ 69 599]]\n",
            "              precision    recall  f1-score   support\n",
            "\n",
            "           0     0.8722    0.7224    0.7903       652\n",
            "           1     0.7679    0.8967    0.8273       668\n",
            "\n",
            "    accuracy                         0.8106      1320\n",
            "   macro avg     0.8201    0.8095    0.8088      1320\n",
            "weighted avg     0.8195    0.8106    0.8090      1320\n",
            "\n",
            "Best val auc:  0.8095\n",
            "\n",
            "\n",
            "[[474 182]\n",
            " [ 79 585]]\n",
            "              precision    recall  f1-score   support\n",
            "\n",
            "           0     0.8571    0.7226    0.7841       656\n",
            "           1     0.7627    0.8810    0.8176       664\n",
            "\n",
            "    accuracy                         0.8023      1320\n",
            "   macro avg     0.8099    0.8018    0.8009      1320\n",
            "weighted avg     0.8096    0.8023    0.8010      1320\n",
            "\n",
            "Best val auc:  0.8018\n",
            "\n",
            "\n",
            "[[489 183]\n",
            " [ 54 594]]\n",
            "              precision    recall  f1-score   support\n",
            "\n",
            "           0     0.9006    0.7277    0.8049       672\n",
            "           1     0.7645    0.9167    0.8337       648\n",
            "\n",
            "    accuracy                         0.8205      1320\n",
            "   macro avg     0.8325    0.8222    0.8193      1320\n",
            "weighted avg     0.8338    0.8205    0.8190      1320\n",
            "\n",
            "Best val auc:  0.8222\n",
            "\n",
            "\n",
            "[[494 188]\n",
            " [ 57 581]]\n",
            "              precision    recall  f1-score   support\n",
            "\n",
            "           0     0.8966    0.7243    0.8013       682\n",
            "           1     0.7555    0.9107    0.8259       638\n",
            "\n",
            "    accuracy                         0.8144      1320\n",
            "   macro avg     0.8260    0.8175    0.8136      1320\n",
            "weighted avg     0.8284    0.8144    0.8132      1320\n",
            "\n",
            "Best val auc:  0.8175\n",
            "\n",
            "\n",
            "[[499 182]\n",
            " [ 48 591]]\n",
            "              precision    recall  f1-score   support\n",
            "\n",
            "           0     0.9122    0.7327    0.8127       681\n",
            "           1     0.7646    0.9249    0.8371       639\n",
            "\n",
            "    accuracy                         0.8258      1320\n",
            "   macro avg     0.8384    0.8288    0.8249      1320\n",
            "weighted avg     0.8408    0.8258    0.8245      1320\n",
            "\n",
            "Best val auc:  0.8288\n",
            "\n",
            "\n",
            "[[463 182]\n",
            " [ 58 617]]\n",
            "              precision    recall  f1-score   support\n",
            "\n",
            "           0     0.8887    0.7178    0.7942       645\n",
            "           1     0.7722    0.9141    0.8372       675\n",
            "\n",
            "    accuracy                         0.8182      1320\n",
            "   macro avg     0.8304    0.8160    0.8157      1320\n",
            "weighted avg     0.8291    0.8182    0.8162      1320\n",
            "\n",
            "Best val auc:  0.8160\n",
            "\n",
            "\n",
            "[[470 167]\n",
            " [ 65 618]]\n",
            "              precision    recall  f1-score   support\n",
            "\n",
            "           0     0.8785    0.7378    0.8020       637\n",
            "           1     0.7873    0.9048    0.8420       683\n",
            "\n",
            "    accuracy                         0.8242      1320\n",
            "   macro avg     0.8329    0.8213    0.8220      1320\n",
            "weighted avg     0.8313    0.8242    0.8227      1320\n",
            "\n",
            "Best val auc:  0.8213\n",
            "\n",
            "\n",
            "[[510 178]\n",
            " [ 66 566]]\n",
            "              precision    recall  f1-score   support\n",
            "\n",
            "           0     0.8854    0.7413    0.8070       688\n",
            "           1     0.7608    0.8956    0.8227       632\n",
            "\n",
            "    accuracy                         0.8152      1320\n",
            "   macro avg     0.8231    0.8184    0.8148      1320\n",
            "weighted avg     0.8257    0.8152    0.8145      1320\n",
            "\n",
            "Best val auc:  0.8184\n",
            "\n",
            "\n",
            "[[454 198]\n",
            " [ 47 621]]\n",
            "              precision    recall  f1-score   support\n",
            "\n",
            "           0     0.9062    0.6963    0.7875       652\n",
            "           1     0.7582    0.9296    0.8352       668\n",
            "\n",
            "    accuracy                         0.8144      1320\n",
            "   macro avg     0.8322    0.8130    0.8114      1320\n",
            "weighted avg     0.8313    0.8144    0.8117      1320\n",
            "\n",
            "Best val auc:  0.8130\n",
            "\n",
            "\n",
            "[[466 176]\n",
            " [ 78 600]]\n",
            "              precision    recall  f1-score   support\n",
            "\n",
            "           0     0.8566    0.7259    0.7858       642\n",
            "           1     0.7732    0.8850    0.8253       678\n",
            "\n",
            "    accuracy                         0.8076      1320\n",
            "   macro avg     0.8149    0.8054    0.8056      1320\n",
            "weighted avg     0.8138    0.8076    0.8061      1320\n",
            "\n",
            "Best val auc:  0.8054\n",
            "\n",
            "\n",
            "[[491 172]\n",
            " [ 79 578]]\n",
            "              precision    recall  f1-score   support\n",
            "\n",
            "           0     0.8614    0.7406    0.7964       663\n",
            "           1     0.7707    0.8798    0.8216       657\n",
            "\n",
            "    accuracy                         0.8098      1320\n",
            "   macro avg     0.8160    0.8102    0.8090      1320\n",
            "weighted avg     0.8162    0.8098    0.8090      1320\n",
            "\n",
            "Best val auc:  0.8102\n",
            "\n"
          ]
        }
      ]
    },
    {
      "cell_type": "markdown",
      "source": [
        "**Curva ROC para el  DecisionTreeClassifier**"
      ],
      "metadata": {
        "id": "AqipZCh875pM"
      }
    },
    {
      "cell_type": "code",
      "source": [
        "#Curva ROC Arbol de desición\n",
        "\n",
        "classes = classifier.predict(X_test) \n",
        "ns_probs = [0 for _ in range(len(y_test))]\n",
        "\n",
        "ns_auc = roc_auc_score(y_test, ns_probs,average='weighted')\n",
        "classifier_auc = roc_auc_score(y_test,classes,average='weighted')\n",
        "\n",
        "#aps = average_precision_score(y_test, ns_probs)\n",
        "#print(\"Average_presicion_score \"+str(aps))\n",
        "\n",
        "print('Sin entrenar: ROC AUC=%.3f' % (ns_auc))\n",
        "print('Algoritmo arbol de: ROC AUC=%.3f' % (classifier_auc))\n",
        "classifier_probs = classes[:]\n",
        "ns_fpr, ns_tpr, _ = roc_curve(y_test, ns_probs)\n",
        "pyplot.plot(ns_fpr, ns_tpr, linestyle='--', label='Sin entrenar')\n",
        "classifier_fpr, classifier_tpr, _ = roc_curve(y_test, classifier_probs)\n",
        "print()\n",
        "pyplot.plot(classifier_fpr, classifier_tpr, marker='.', label='Curva arbol de desición')\n",
        "pyplot.xlabel('Tasa de Falsos Positivos')\n",
        "pyplot.ylabel('Tasa de Verdaderos Positivos')\n",
        "pyplot.legend()\n",
        "pyplot.show()\n",
        "print()"
      ],
      "metadata": {
        "colab": {
          "base_uri": "https://localhost:8080/",
          "height": 518
        },
        "id": "ANFcUzzj8Ptz",
        "outputId": "f2c8054c-5d70-470c-8774-6473409c2e0c"
      },
      "execution_count": 27,
      "outputs": [
        {
          "output_type": "stream",
          "name": "stdout",
          "text": [
            "Sin entrenar: ROC AUC=0.500\n",
            "Algoritmo arbol de: ROC AUC=0.810\n",
            "\n"
          ]
        },
        {
          "output_type": "display_data",
          "data": {
            "text/plain": [
              "<Figure size 640x480 with 1 Axes>"
            ],
            "image/png": "[encoded data removed]"
          },
          "metadata": {}
        },
        {
          "output_type": "stream",
          "name": "stdout",
          "text": [
            "\n"
          ]
        }
      ]
    }
  ]
}